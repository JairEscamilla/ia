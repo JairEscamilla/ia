{
  "nbformat": 4,
  "nbformat_minor": 0,
  "metadata": {
    "colab": {
      "name": "Numpy.ipynb",
      "provenance": []
    },
    "kernelspec": {
      "name": "python3",
      "display_name": "Python 3"
    }
  },
  "cells": [
    {
      "cell_type": "code",
      "metadata": {
        "id": "5xxnVzUprG4q",
        "colab_type": "code",
        "colab": {}
      },
      "source": [
        ""
      ],
      "execution_count": 0,
      "outputs": []
    },
    {
      "cell_type": "markdown",
      "metadata": {
        "id": "kOOcGkcuuYCn",
        "colab_type": "text"
      },
      "source": [
        "## Creando arreglos de una dimensión"
      ]
    },
    {
      "cell_type": "code",
      "metadata": {
        "id": "n1Z3XHR1uwjy",
        "colab_type": "code",
        "colab": {
          "base_uri": "https://localhost:8080/",
          "height": 34
        },
        "outputId": "80a9b44d-5533-4869-c70e-5a19c94c2860"
      },
      "source": [
        "import numpy as np\n",
        "array = np.array([3, 33, 333]) # Crea un arreglo de dimensión 1 en numpy\n",
        "print(type(array))"
      ],
      "execution_count": 2,
      "outputs": [
        {
          "output_type": "stream",
          "text": [
            "<class 'numpy.ndarray'>\n"
          ],
          "name": "stdout"
        }
      ]
    },
    {
      "cell_type": "code",
      "metadata": {
        "id": "qUrGBaEzu_6e",
        "colab_type": "code",
        "colab": {
          "base_uri": "https://localhost:8080/",
          "height": 34
        },
        "outputId": "6a8fb418-1720-44e1-f0d7-01dab6f70476"
      },
      "source": [
        "print(array.shape) # Dimensión del array"
      ],
      "execution_count": 6,
      "outputs": [
        {
          "output_type": "stream",
          "text": [
            "(3,)\n"
          ],
          "name": "stdout"
        }
      ]
    },
    {
      "cell_type": "markdown",
      "metadata": {
        "id": "PeTtHTiQvXKV",
        "colab_type": "text"
      },
      "source": [
        "## Creando arreglos de dos dimensiones"
      ]
    },
    {
      "cell_type": "code",
      "metadata": {
        "id": "0iYqidHsvcQ_",
        "colab_type": "code",
        "colab": {
          "base_uri": "https://localhost:8080/",
          "height": 85
        },
        "outputId": "d0dd1e94-01ce-4314-8b67-98ff3a4da652"
      },
      "source": [
        "another = np.array([[11, 12, 13], [21, 22, 23]])\n",
        "print(another)\n",
        "print(\"Las dimensiones son: \", another.shape)\n",
        "print(another[0, 2])"
      ],
      "execution_count": 8,
      "outputs": [
        {
          "output_type": "stream",
          "text": [
            "[[11 12 13]\n",
            " [21 22 23]]\n",
            "Las dimensiones son:  (2, 3)\n",
            "13\n"
          ],
          "name": "stdout"
        }
      ]
    },
    {
      "cell_type": "markdown",
      "metadata": {
        "id": "L5y7pmMpwH11",
        "colab_type": "text"
      },
      "source": [
        "## Diferentes maneras de crear un array en numpy"
      ]
    },
    {
      "cell_type": "code",
      "metadata": {
        "id": "VuEhR9oGwXYM",
        "colab_type": "code",
        "colab": {
          "base_uri": "https://localhost:8080/",
          "height": 408
        },
        "outputId": "b371843f-e9e9-407a-d3ca-cb850b9cfaab"
      },
      "source": [
        "ex1 = np.zeros((2, 2))\n",
        "print(ex1)\n",
        "# Creando array lleno de 9\n",
        "ex2 = np.full((2, 2), 9.0)\n",
        "print(ex2)\n",
        "print(\"Creando una matriz diagonal: \", end = \"\\n\\n\")\n",
        "ex3 = np.eye(4, 4)\n",
        "print(ex3)\n",
        "print(\"\\nCreamdo una matriz de unos: \", end = \"\\n\\n\")\n",
        "ex4 = np.ones((5, 4))\n",
        "print(ex4)\n",
        "\n",
        "print(\"\\nCreando array ccon valores al azar: \", end = \"\\n\\n\")\n",
        "ex5 = np.random.random((2, 2))\n",
        "print(ex5)"
      ],
      "execution_count": 21,
      "outputs": [
        {
          "output_type": "stream",
          "text": [
            "[[0. 0.]\n",
            " [0. 0.]]\n",
            "[[9. 9.]\n",
            " [9. 9.]]\n",
            "Creando una matriz diagonal: \n",
            "\n",
            "[[1. 0. 0. 0.]\n",
            " [0. 1. 0. 0.]\n",
            " [0. 0. 1. 0.]\n",
            " [0. 0. 0. 1.]]\n",
            "\n",
            "Creamdo una matriz de unos: \n",
            "\n",
            "[[1. 1. 1. 1.]\n",
            " [1. 1. 1. 1.]\n",
            " [1. 1. 1. 1.]\n",
            " [1. 1. 1. 1.]\n",
            " [1. 1. 1. 1.]]\n",
            "\n",
            "Creando array ccon valores al azar: \n",
            "\n",
            "[[0.81900639 0.07067071]\n",
            " [0.1882174  0.89395043]]\n"
          ],
          "name": "stdout"
        }
      ]
    },
    {
      "cell_type": "markdown",
      "metadata": {
        "id": "PU-wWva5xyiD",
        "colab_type": "text"
      },
      "source": [
        "## Slice indexing"
      ]
    },
    {
      "cell_type": "code",
      "metadata": {
        "id": "nOMG2yOXyTu8",
        "colab_type": "code",
        "colab": {
          "base_uri": "https://localhost:8080/",
          "height": 170
        },
        "outputId": "37c1d3d5-36f6-4622-b7c1-e282f4838cc5"
      },
      "source": [
        "array = np.array([[11, 12, 13, 14], [21, 22, 23, 24], [31, 32, 33, 34]])\n",
        "print(array)\n",
        "print(\"\\n\\nSlicing...\")\n",
        "slice = array[:3, 1:3]\n",
        "s = np.array(slice) # Creando una copia del array\n",
        "print(slice)"
      ],
      "execution_count": 28,
      "outputs": [
        {
          "output_type": "stream",
          "text": [
            "[[11 12 13 14]\n",
            " [21 22 23 24]\n",
            " [31 32 33 34]]\n",
            "\n",
            "\n",
            "Slicing...\n",
            "[[12 13]\n",
            " [22 23]\n",
            " [32 33]]\n"
          ],
          "name": "stdout"
        }
      ]
    },
    {
      "cell_type": "code",
      "metadata": {
        "id": "3QRv38yx0RTr",
        "colab_type": "code",
        "colab": {
          "base_uri": "https://localhost:8080/",
          "height": 34
        },
        "outputId": "77894452-64f6-4116-b28e-6ed9cd5b953c"
      },
      "source": [
        "np.arange(5)"
      ],
      "execution_count": 29,
      "outputs": [
        {
          "output_type": "execute_result",
          "data": {
            "text/plain": [
              "array([0, 1, 2, 3, 4])"
            ]
          },
          "metadata": {
            "tags": []
          },
          "execution_count": 29
        }
      ]
    }
  ]
}