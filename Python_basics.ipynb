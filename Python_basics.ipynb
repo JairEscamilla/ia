{
  "nbformat": 4,
  "nbformat_minor": 0,
  "metadata": {
    "colab": {
      "name": "Python basics.ipynb",
      "provenance": []
    },
    "kernelspec": {
      "name": "python3",
      "display_name": "Python 3"
    }
  },
  "cells": [
    {
      "cell_type": "markdown",
      "metadata": {
        "id": "iZpVct3_uaVF",
        "colab_type": "text"
      },
      "source": [
        "# **String Functions**"
      ]
    },
    {
      "cell_type": "code",
      "metadata": {
        "id": "00mdHG7Sui4m",
        "colab_type": "code",
        "colab": {
          "base_uri": "https://localhost:8080/",
          "height": 34
        },
        "outputId": "a0c3629a-315d-4165-fc08-d2f634af0f66"
      },
      "source": [
        "word = 'Hello'\n",
        "word.lower() # Devuelve la cadena en minusculas\n",
        "# Las cadenas son inmutables, por tanto, los metodos devuelven nuevos Strings "
      ],
      "execution_count": 13,
      "outputs": [
        {
          "output_type": "execute_result",
          "data": {
            "text/plain": [
              "'hello'"
            ]
          },
          "metadata": {
            "tags": []
          },
          "execution_count": 13
        }
      ]
    },
    {
      "cell_type": "code",
      "metadata": {
        "id": "OzFKRqsEu5Qq",
        "colab_type": "code",
        "colab": {
          "base_uri": "https://localhost:8080/",
          "height": 34
        },
        "outputId": "0b1bc7ff-7af1-48ba-b433-14bc4b6e7443"
      },
      "source": [
        "# Replicacion\n",
        "\"12\"*2\n",
        "\"1\"*2 + \"2\"*3"
      ],
      "execution_count": 15,
      "outputs": [
        {
          "output_type": "execute_result",
          "data": {
            "text/plain": [
              "'11222'"
            ]
          },
          "metadata": {
            "tags": []
          },
          "execution_count": 15
        }
      ]
    },
    {
      "cell_type": "code",
      "metadata": {
        "id": "cXNJCr9BvHvg",
        "colab_type": "code",
        "colab": {
          "base_uri": "https://localhost:8080/",
          "height": 51
        },
        "outputId": "65125211-c7b6-4abe-b31a-baf154fa6937"
      },
      "source": [
        "s = '      Extras \\n'\n",
        "print(s.strip())\n",
        "s = \"***100***\"\n",
        "print(s.strip(\"*\"))"
      ],
      "execution_count": 18,
      "outputs": [
        {
          "output_type": "stream",
          "text": [
            "Extras\n",
            "100\n"
          ],
          "name": "stdout"
        }
      ]
    },
    {
      "cell_type": "code",
      "metadata": {
        "id": "Mbw-NPx8vdxT",
        "colab_type": "code",
        "colab": {
          "base_uri": "https://localhost:8080/",
          "height": 51
        },
        "outputId": "5f1d3505-3b33-4db1-9f97-95e9cf7d47b2"
      },
      "source": [
        "s = \"Vamos a usar el metodo split\"\n",
        "print(s.split())\n",
        "s = \"Jane,Doe,Cars,5\"\n",
        "print(s.split(\",\"))"
      ],
      "execution_count": 21,
      "outputs": [
        {
          "output_type": "stream",
          "text": [
            "['Vamos', 'a', 'usar', 'el', 'metodo', 'split']\n",
            "['Jane', 'Doe', 'Cars', '5']\n"
          ],
          "name": "stdout"
        }
      ]
    },
    {
      "cell_type": "code",
      "metadata": {
        "id": "wgnNK7Bdv7zT",
        "colab_type": "code",
        "colab": {
          "base_uri": "https://localhost:8080/",
          "height": 68
        },
        "outputId": "8f165290-aaa2-453b-c353-b3f3a22bd3fd"
      },
      "source": [
        "word = \"Hello\"\n",
        "print(word[1:3])\n",
        "print(word[-4:-1])\n",
        "print(\"He\" in word)"
      ],
      "execution_count": 24,
      "outputs": [
        {
          "output_type": "stream",
          "text": [
            "el\n",
            "ell\n",
            "True\n"
          ],
          "name": "stdout"
        }
      ]
    },
    {
      "cell_type": "code",
      "metadata": {
        "id": "WyiuNp8QwraB",
        "colab_type": "code",
        "colab": {
          "base_uri": "https://localhost:8080/",
          "height": 34
        },
        "outputId": "2f715444-f720-4e9f-c848-8da5fb9cfadb"
      },
      "source": [
        "# String format\n",
        "statement = \"We love {} {}\"\n",
        "print(statement.format('data', 'analysis'))\n"
      ],
      "execution_count": 26,
      "outputs": [
        {
          "output_type": "stream",
          "text": [
            "We love data analysis\n"
          ],
          "name": "stdout"
        }
      ]
    }
  ]
}