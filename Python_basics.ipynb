{
  "nbformat": 4,
  "nbformat_minor": 0,
  "metadata": {
    "colab": {
      "name": "Python basics.ipynb",
      "provenance": [],
      "collapsed_sections": []
    },
    "kernelspec": {
      "name": "python3",
      "display_name": "Python 3"
    }
  },
  "cells": [
    {
      "cell_type": "markdown",
      "metadata": {
        "id": "iZpVct3_uaVF",
        "colab_type": "text"
      },
      "source": [
        "# **String Functions**"
      ]
    },
    {
      "cell_type": "code",
      "metadata": {
        "id": "00mdHG7Sui4m",
        "colab_type": "code",
        "colab": {
          "base_uri": "https://localhost:8080/",
          "height": 34
        },
        "outputId": "a0c3629a-315d-4165-fc08-d2f634af0f66"
      },
      "source": [
        "word = 'Hello'\n",
        "word.lower() # Devuelve la cadena en minusculas\n",
        "# Las cadenas son inmutables, por tanto, los metodos devuelven nuevos Strings "
      ],
      "execution_count": 13,
      "outputs": [
        {
          "output_type": "execute_result",
          "data": {
            "text/plain": [
              "'hello'"
            ]
          },
          "metadata": {
            "tags": []
          },
          "execution_count": 13
        }
      ]
    },
    {
      "cell_type": "code",
      "metadata": {
        "id": "OzFKRqsEu5Qq",
        "colab_type": "code",
        "colab": {
          "base_uri": "https://localhost:8080/",
          "height": 34
        },
        "outputId": "0b1bc7ff-7af1-48ba-b433-14bc4b6e7443"
      },
      "source": [
        "# Replicacion\n",
        "\"12\"*2\n",
        "\"1\"*2 + \"2\"*3"
      ],
      "execution_count": 15,
      "outputs": [
        {
          "output_type": "execute_result",
          "data": {
            "text/plain": [
              "'11222'"
            ]
          },
          "metadata": {
            "tags": []
          },
          "execution_count": 15
        }
      ]
    },
    {
      "cell_type": "code",
      "metadata": {
        "id": "cXNJCr9BvHvg",
        "colab_type": "code",
        "colab": {
          "base_uri": "https://localhost:8080/",
          "height": 51
        },
        "outputId": "65125211-c7b6-4abe-b31a-baf154fa6937"
      },
      "source": [
        "s = '      Extras \\n'\n",
        "print(s.strip())\n",
        "s = \"***100***\"\n",
        "print(s.strip(\"*\"))"
      ],
      "execution_count": 18,
      "outputs": [
        {
          "output_type": "stream",
          "text": [
            "Extras\n",
            "100\n"
          ],
          "name": "stdout"
        }
      ]
    },
    {
      "cell_type": "code",
      "metadata": {
        "id": "Mbw-NPx8vdxT",
        "colab_type": "code",
        "colab": {
          "base_uri": "https://localhost:8080/",
          "height": 51
        },
        "outputId": "5f1d3505-3b33-4db1-9f97-95e9cf7d47b2"
      },
      "source": [
        "s = \"Vamos a usar el metodo split\"\n",
        "print(s.split())\n",
        "s = \"Jane,Doe,Cars,5\"\n",
        "print(s.split(\",\"))"
      ],
      "execution_count": 21,
      "outputs": [
        {
          "output_type": "stream",
          "text": [
            "['Vamos', 'a', 'usar', 'el', 'metodo', 'split']\n",
            "['Jane', 'Doe', 'Cars', '5']\n"
          ],
          "name": "stdout"
        }
      ]
    },
    {
      "cell_type": "code",
      "metadata": {
        "id": "wgnNK7Bdv7zT",
        "colab_type": "code",
        "colab": {
          "base_uri": "https://localhost:8080/",
          "height": 68
        },
        "outputId": "8f165290-aaa2-453b-c353-b3f3a22bd3fd"
      },
      "source": [
        "word = \"Hello\"\n",
        "print(word[1:3])\n",
        "print(word[-4:-1])\n",
        "print(\"He\" in word)"
      ],
      "execution_count": 24,
      "outputs": [
        {
          "output_type": "stream",
          "text": [
            "el\n",
            "ell\n",
            "True\n"
          ],
          "name": "stdout"
        }
      ]
    },
    {
      "cell_type": "code",
      "metadata": {
        "id": "WyiuNp8QwraB",
        "colab_type": "code",
        "colab": {
          "base_uri": "https://localhost:8080/",
          "height": 34
        },
        "outputId": "2f715444-f720-4e9f-c848-8da5fb9cfadb"
      },
      "source": [
        "# String format\n",
        "statement = \"We love {} {}\"\n",
        "print(statement.format('data', 'analysis'))\n"
      ],
      "execution_count": 26,
      "outputs": [
        {
          "output_type": "stream",
          "text": [
            "We love data analysis\n"
          ],
          "name": "stdout"
        }
      ]
    },
    {
      "cell_type": "markdown",
      "metadata": {
        "id": "VxU8p8OaxWS2",
        "colab_type": "text"
      },
      "source": [
        "# **Listas**"
      ]
    },
    {
      "cell_type": "code",
      "metadata": {
        "id": "IfYObDD3xY1C",
        "colab_type": "code",
        "colab": {
          "base_uri": "https://localhost:8080/",
          "height": 170
        },
        "outputId": "84773b91-a1e8-4260-eb75-aa9760e77bfd"
      },
      "source": [
        "list = [11, 22, 33]\n",
        "for i in list:\n",
        "  print(i, end = \" \")\n",
        "print()\n",
        "for i in range(0, len(list)):\n",
        "  print(list[i], end = \" \")\n",
        "# Son mutables\n",
        "print()\n",
        "list.append(44) # Agrega un elemento al final de la lista\n",
        "print(list)\n",
        "list.pop(2) # Elimina el segundo elemento de la lista\n",
        "print(list)\n",
        "list.remove(44) # Elimina el numero 44 de la lista\n",
        "print(list)\n",
        "list.extend(list) # Adjunta una nueva lista al final\n",
        "print(list)\n",
        "# Zip lists\n",
        "list = [1, 2, 3]\n",
        "list2 = [4, 5, 6]\n",
        "for x, y in zip(list, list2):\n",
        "  print(x, \", \", y)"
      ],
      "execution_count": 47,
      "outputs": [
        {
          "output_type": "stream",
          "text": [
            "11 22 33 \n",
            "11 22 33 \n",
            "[11, 22, 33, 44]\n",
            "[11, 22, 44]\n",
            "[11, 22]\n",
            "[11, 22, 11, 22]\n",
            "1 ,  4\n",
            "2 ,  5\n",
            "3 ,  6\n"
          ],
          "name": "stdout"
        }
      ]
    },
    {
      "cell_type": "markdown",
      "metadata": {
        "id": "hppkPIQ1zU1U",
        "colab_type": "text"
      },
      "source": [
        "# **Tuplas**"
      ]
    },
    {
      "cell_type": "code",
      "metadata": {
        "id": "mu124PJtzXsq",
        "colab_type": "code",
        "colab": {
          "base_uri": "https://localhost:8080/",
          "height": 102
        },
        "outputId": "9ab8aa4a-90a2-421d-f963-bddd6806d6e3"
      },
      "source": [
        "tuple1 = ('Honda', 'Civic', 4, 2020)\n",
        "print(len(tuple1))\n",
        "for i in tuple1:\n",
        "  print(i)\n",
        "\n",
        "# Es inmutable"
      ],
      "execution_count": 64,
      "outputs": [
        {
          "output_type": "stream",
          "text": [
            "4\n",
            "Honda\n",
            "Civic\n",
            "4\n",
            "2020\n"
          ],
          "name": "stdout"
        }
      ]
    },
    {
      "cell_type": "markdown",
      "metadata": {
        "id": "CL5ZDtyg0RWi",
        "colab_type": "text"
      },
      "source": [
        "# **Diccionarios**"
      ]
    },
    {
      "cell_type": "code",
      "metadata": {
        "id": "cV1XQqYP0UvY",
        "colab_type": "code",
        "colab": {
          "base_uri": "https://localhost:8080/",
          "height": 119
        },
        "outputId": "14299983-ec8c-4e4a-b3a3-f25584809c46"
      },
      "source": [
        "# La llave de los diccionarios son inmutables, son desordenados\n",
        "dict = {('Ejemplo1', 1984): 5.4, ('Prueba2', 1984): 7.8}\n",
        "print(dict)\n",
        "print(len(dict))\n",
        "dict[('Ejemplo1', 1984)] = 6\n",
        "x = dict.get(('Ejemplo1', 1984))\n",
        "print(x)\n",
        "print(dict.get('Hola'))\n",
        "dict.pop(('Ejemplo1', 1984))\n",
        "print(dict)\n",
        "for key, value in dict.items():\n",
        "  print(key, \": \", value)\n"
      ],
      "execution_count": 71,
      "outputs": [
        {
          "output_type": "stream",
          "text": [
            "{('Ejemplo1', 1984): 5.4, ('Prueba2', 1984): 7.8}\n",
            "2\n",
            "6\n",
            "None\n",
            "{('Prueba2', 1984): 7.8}\n",
            "('Prueba2', 1984) :  7.8\n"
          ],
          "name": "stdout"
        }
      ]
    },
    {
      "cell_type": "markdown",
      "metadata": {
        "id": "vwPQHgXn2eZh",
        "colab_type": "text"
      },
      "source": [
        "# **List and Dictionary comprehenion**\n"
      ]
    },
    {
      "cell_type": "code",
      "metadata": {
        "id": "ASqUepAp2kVo",
        "colab_type": "code",
        "colab": {
          "base_uri": "https://localhost:8080/",
          "height": 71
        },
        "outputId": "dc95e0ce-e6d8-4d07-a211-a8eb9609abe6"
      },
      "source": [
        "list = [i**2 for i in range(1, 11)]\n",
        "print(list)\n",
        "dict = {i : chr(i) for i in range(65, 90)}\n",
        "print(dict)"
      ],
      "execution_count": 73,
      "outputs": [
        {
          "output_type": "stream",
          "text": [
            "[1, 4, 9, 16, 25, 36, 49, 64, 81, 100]\n",
            "{65: 'A', 66: 'B', 67: 'C', 68: 'D', 69: 'E', 70: 'F', 71: 'G', 72: 'H', 73: 'I', 74: 'J', 75: 'K', 76: 'L', 77: 'M', 78: 'N', 79: 'O', 80: 'P', 81: 'Q', 82: 'R', 83: 'S', 84: 'T', 85: 'U', 86: 'V', 87: 'W', 88: 'X', 89: 'Y'}\n"
          ],
          "name": "stdout"
        }
      ]
    },
    {
      "cell_type": "markdown",
      "metadata": {
        "id": "sURIHKwT3dML",
        "colab_type": "text"
      },
      "source": [
        "# **Sets**"
      ]
    },
    {
      "cell_type": "code",
      "metadata": {
        "id": "5a7tF5Yv3fTi",
        "colab_type": "code",
        "colab": {
          "base_uri": "https://localhost:8080/",
          "height": 68
        },
        "outputId": "8ddb8121-f477-4133-b07f-e666068f3dc4"
      },
      "source": [
        "# Son desordenados\n",
        "# No permite duplicados\n",
        "# Soporta operaciones como union o intersection\n",
        "l = set(['blue', 'green', 'red'])\n",
        "l.add('yellow')\n",
        "print(l)\n",
        "l2 = set(['blue', 'green'])\n",
        "either = l2.union(l)\n",
        "print(either)\n",
        "both = l.intersection(l2)\n",
        "print(both)"
      ],
      "execution_count": 76,
      "outputs": [
        {
          "output_type": "stream",
          "text": [
            "{'red', 'blue', 'green', 'yellow'}\n",
            "{'red', 'yellow', 'blue', 'green'}\n",
            "{'blue', 'green'}\n"
          ],
          "name": "stdout"
        }
      ]
    }
  ]
}