{
  "nbformat": 4,
  "nbformat_minor": 0,
  "metadata": {
    "colab": {
      "name": "Web Scraping.ipynb",
      "provenance": []
    },
    "kernelspec": {
      "name": "python3",
      "display_name": "Python 3"
    },
    "accelerator": "GPU"
  },
  "cells": [
    {
      "cell_type": "code",
      "metadata": {
        "id": "F0a5QaJ3HKQ5",
        "colab_type": "code",
        "colab": {}
      },
      "source": [
        ""
      ],
      "execution_count": 0,
      "outputs": []
    },
    {
      "cell_type": "markdown",
      "metadata": {
        "id": "U-ohgTAmJXW4",
        "colab_type": "text"
      },
      "source": [
        "# Importamos las librerias de Python que necesitamos"
      ]
    },
    {
      "cell_type": "code",
      "metadata": {
        "id": "Oj0Y89PuJkcb",
        "colab_type": "code",
        "colab": {}
      },
      "source": [
        "import requests\n",
        "from bs4 import BeautifulSoup\n",
        "import csv\n",
        "from datetime import datetime"
      ],
      "execution_count": 0,
      "outputs": []
    },
    {
      "cell_type": "markdown",
      "metadata": {
        "id": "FSF24-bWJ0y7",
        "colab_type": "text"
      },
      "source": [
        "# Comenzamos a obtener los datos de la página"
      ]
    },
    {
      "cell_type": "code",
      "metadata": {
        "id": "KqefLuyAJ_pt",
        "colab_type": "code",
        "colab": {}
      },
      "source": [
        "# Indicamos la ruta \n",
        "url_page = 'http://www.bolsamadrid.es/esp/aspx/Indices/Resumen.aspx'\n",
        "# Hacemos request a esa ruta y procesaremos el HTML mediante un objeto de BeautifulSoap\n",
        "page = requests.get(url_page).text\n",
        "soup = BeautifulSoup(page, \"lxml\")"
      ],
      "execution_count": 0,
      "outputs": []
    },
    {
      "cell_type": "code",
      "metadata": {
        "id": "gx1ZgJ5LKjnA",
        "colab_type": "code",
        "colab": {
          "base_uri": "https://localhost:8080/",
          "height": 1000
        },
        "outputId": "3659b126-c6a7-462c-e713-7ad215d78e8a"
      },
      "source": [
        "# Obtenemos la tabla por un ID especifico\n",
        "tabla = soup.find('table', attrs={'id': 'ctl00_Contenido_tblÍndices'})\n",
        "tabla"
      ],
      "execution_count": 3,
      "outputs": [
        {
          "output_type": "execute_result",
          "data": {
            "text/plain": [
              "<table align=\"Center\" cellpadding=\"3\" cellspacing=\"0\" class=\"TblPort\" id=\"ctl00_Contenido_tblÍndices\" style=\"margin-bottom: 20px;\" width=\"85%\">\n",
              "<tr align=\"center\">\n",
              "<th scope=\"col\">Nombre</th><th scope=\"col\">Anterior</th><th scope=\"col\">Último</th><th scope=\"col\">% Dif.</th><th scope=\"col\">Máximo</th><th scope=\"col\">Mínimo</th><th scope=\"col\">Fecha</th><th scope=\"col\">Hora</th><th class=\"Ult\" scope=\"col\">% Dif.<br/>Año 2019</th>\n",
              "</tr><tr align=\"right\">\n",
              "<td align=\"left\" class=\"DifFlSb\">IBEX 35®</td><td>9.468,50</td><td>9.563,70</td><td class=\"DifClSb\">1,01</td><td>9.650,90</td><td>9.554,10</td><td align=\"center\">13/12/2019</td><td align=\"center\">17:38:00</td><td class=\"DifClSb Ult\">11,99</td>\n",
              "</tr><tr align=\"right\">\n",
              "<td align=\"left\" class=\"DifFlSb\">IBEX 35® con Dividendos</td><td>27.419,50</td><td>27.695,40</td><td class=\"DifClSb\">1,01</td><td>27.947,90</td><td>27.667,50</td><td align=\"center\">13/12/2019</td><td align=\"center\">17:38:00</td><td class=\"DifClSb Ult\">16,18</td>\n",
              "</tr><tr align=\"right\">\n",
              "<td align=\"left\" class=\"DifFlSb\">IBEX MEDIUM CAP®</td><td>14.105,40</td><td>14.149,90</td><td class=\"DifClSb\">0,32</td><td>14.240,00</td><td>14.133,30</td><td align=\"center\">13/12/2019</td><td align=\"center\">17:38:00</td><td class=\"DifClSb Ult\">8,89</td>\n",
              "</tr><tr align=\"right\">\n",
              "<td align=\"left\" class=\"DifFlBj\">IBEX SMALL CAP®</td><td>6.664,10</td><td>6.650,50</td><td class=\"DifClBj\">-0,20</td><td>6.739,30</td><td>6.650,50</td><td align=\"center\">13/12/2019</td><td align=\"center\">17:38:01</td><td class=\"DifClSb Ult\">9,26</td>\n",
              "</tr><tr align=\"right\">\n",
              "<td align=\"left\" class=\"DifFlSb\">IBEX 35® Bancos</td><td>513,90</td><td>515,30</td><td class=\"DifClSb\">0,27</td><td>531,30</td><td>515,30</td><td align=\"center\">13/12/2019</td><td align=\"center\">17:38:01</td><td class=\"DifClBj Ult\">-3,77</td>\n",
              "</tr><tr align=\"right\">\n",
              "<td align=\"left\" class=\"DifFlSb\">IBEX 35® Energía</td><td>1.343,70</td><td>1.349,90</td><td class=\"DifClSb\">0,46</td><td>1.353,90</td><td>1.342,00</td><td align=\"center\">13/12/2019</td><td align=\"center\">17:38:01</td><td class=\"DifClSb Ult\">12,20</td>\n",
              "</tr><tr align=\"right\">\n",
              "<td align=\"left\" class=\"DifFlSb\">IBEX 35® Construcción</td><td>1.580,10</td><td>1.583,70</td><td class=\"DifClSb\">0,23</td><td>1.601,40</td><td>1.581,10</td><td align=\"center\">13/12/2019</td><td align=\"center\">17:38:01</td><td class=\"DifClSb Ult\">28,00</td>\n",
              "</tr><tr align=\"right\">\n",
              "<td align=\"left\" class=\"DifFlSb\">IBEX TOP Dividendo®</td><td>2.907,30</td><td>2.917,50</td><td class=\"DifClSb\">0,35</td><td>2.949,70</td><td>2.916,20</td><td align=\"center\">13/12/2019</td><td align=\"center\">17:38:00</td><td class=\"DifClSb Ult\">6,72</td>\n",
              "</tr><tr align=\"right\">\n",
              "<td align=\"left\" class=\"DifFlSb\">IBEX 35® con Dividendos Netos</td><td>23.184,90</td><td>23.418,20</td><td class=\"DifClSb\">1,01</td><td>23.631,70</td><td>23.394,60</td><td align=\"center\">13/12/2019</td><td align=\"center\">17:38:00</td><td class=\"DifClSb Ult\">15,37</td>\n",
              "</tr><tr align=\"right\">\n",
              "<td align=\"left\" class=\"DifFlBj\">IBEX 35® Inverso</td><td>2.485,80</td><td>2.460,80</td><td class=\"DifClBj\">-1,01</td><td>2.463,30</td><td>2.437,90</td><td align=\"center\">13/12/2019</td><td align=\"center\">17:38:00</td><td class=\"DifClBj Ult\">-15,43</td>\n",
              "</tr><tr align=\"right\">\n",
              "<td align=\"left\" class=\"DifFlBj\">IBEX 35® Doble Inverso</td><td>352,20</td><td>345,10</td><td class=\"DifClBj\">-2,02</td><td>345,80</td><td>338,60</td><td align=\"center\">13/12/2019</td><td align=\"center\">17:38:00</td><td class=\"DifClBj Ult\">-29,66</td>\n",
              "</tr><tr align=\"right\">\n",
              "<td align=\"left\" class=\"DifFlBj\">IBEX 35® Inverso X3</td><td>21,90</td><td>21,20</td><td class=\"DifClBj\">-3,20</td><td>21,30</td><td>20,60</td><td align=\"center\">13/12/2019</td><td align=\"center\">17:38:00</td><td class=\"DifClBj Ult\">-42,70</td>\n",
              "</tr><tr align=\"right\">\n",
              "<td align=\"left\" class=\"DifFlBj\">IBEX 35® Inverso X5</td><td>7.537,80</td><td>7.158,30</td><td class=\"DifClBj\">-5,03</td><td>7.196,70</td><td>6.811,20</td><td align=\"center\">13/12/2019</td><td align=\"center\">17:38:00</td><td class=\"DifClSb Ult\">53,03</td>\n",
              "</tr><tr align=\"right\">\n",
              "<td align=\"left\" class=\"DifFlBj\">IBEX 35® Inverso X10</td><td>131,90</td><td>118,60</td><td class=\"DifClBj\">-10,08</td><td>120,00</td><td>106,50</td><td align=\"center\">13/12/2019</td><td align=\"center\">17:38:00</td><td class=\"DifClBj Ult\">-90,64</td>\n",
              "</tr><tr align=\"right\">\n",
              "<td align=\"left\" class=\"DifFlSb\">IBEX 35® Doble Apalancado</td><td>5.462,70</td><td>5.572,50</td><td class=\"DifClSb\">2,01</td><td>5.673,10</td><td>5.561,40</td><td align=\"center\">13/12/2019</td><td align=\"center\">17:38:00</td><td class=\"DifClSb Ult\">23,24</td>\n",
              "</tr><tr align=\"right\">\n",
              "<td align=\"left\" class=\"DifFlSb\">IBEX 35® Doble Apalancado Bruto</td><td>22.977,10</td><td>23.439,40</td><td class=\"DifClSb\">2,01</td><td>23.862,50</td><td>23.392,60</td><td align=\"center\">13/12/2019</td><td align=\"center\">17:38:00</td><td class=\"DifClSb Ult\">32,62</td>\n",
              "</tr><tr align=\"right\">\n",
              "<td align=\"left\" class=\"DifFlSb\">IBEX 35® Doble Apalancado Neto</td><td>19.501,30</td><td>19.893,70</td><td class=\"DifClSb\">2,01</td><td>20.252,80</td><td>19.854,00</td><td align=\"center\">13/12/2019</td><td align=\"center\">17:38:00</td><td class=\"DifClSb Ult\">30,79</td>\n",
              "</tr><tr align=\"right\">\n",
              "<td align=\"left\" class=\"DifFlSb\">IBEX 35® Apalancado X3</td><td>1.096,90</td><td>1.130,00</td><td class=\"DifClSb\">3,02</td><td>1.160,30</td><td>1.126,60</td><td align=\"center\">13/12/2019</td><td align=\"center\">17:38:00</td><td class=\"DifClSb Ult\">33,52</td>\n",
              "</tr><tr align=\"right\">\n",
              "<td align=\"left\" class=\"DifFlSb\">IBEX 35® Apalancado Neto X3</td><td>11.335,50</td><td>11.677,60</td><td class=\"DifClSb\">3,02</td><td>11.990,70</td><td>11.642,90</td><td align=\"center\">13/12/2019</td><td align=\"center\">17:38:00</td><td class=\"DifClSb Ult\">46,02</td>\n",
              "</tr><tr align=\"right\">\n",
              "<td align=\"left\" class=\"DifFlSb\">IBEX 35® Apalancado Neto X5</td><td>2.176,30</td><td>2.285,70</td><td class=\"DifClSb\">5,03</td><td>2.385,90</td><td>2.274,70</td><td align=\"center\">13/12/2019</td><td align=\"center\">17:38:00</td><td class=\"DifClSb Ult\">73,78</td>\n",
              "</tr><tr align=\"right\">\n",
              "<td align=\"left\" class=\"DifFlSb\">IBEX 35® Apalancado Neto X10</td><td>1.678,00</td><td>1.846,80</td><td class=\"DifClSb\">10,06</td><td>2.001,30</td><td>1.829,70</td><td align=\"center\">13/12/2019</td><td align=\"center\">17:38:00</td><td class=\"DifClSb Ult\">103,57</td>\n",
              "</tr><tr align=\"right\">\n",
              "<td align=\"left\" class=\"DifFlSb\">IBEX 35® Capped Net Return</td><td>23.248,40</td><td>23.482,30</td><td class=\"DifClSb\">1,01</td><td>23.696,40</td><td>23.458,60</td><td align=\"center\">13/12/2019</td><td align=\"center\">17:38:01</td><td class=\"DifClSb Ult\">15,37</td>\n",
              "</tr><tr align=\"right\">\n",
              "<td align=\"left\" class=\"DifFlIg\">IBEX 35® Impacto Div</td><td>361,10</td><td>361,10</td><td class=\"DifClIg\">- </td><td>361,10</td><td>361,10</td><td align=\"center\">13/12/2019</td><td align=\"center\">17:38:00</td><td class=\"DifClIg Ult\">- </td>\n",
              "</tr><tr align=\"right\">\n",
              "<td align=\"left\" class=\"DifFlSb\">IBEX 35® Volatilidad Objetivo 10% Estándar</td><td>186,50</td><td>188,00</td><td class=\"DifClSb\">0,80</td><td>189,30</td><td>187,80</td><td align=\"center\">13/12/2019</td><td align=\"center\">17:38:00</td><td class=\"DifClSb Ult\">8,73</td>\n",
              "</tr><tr align=\"right\">\n",
              "<td align=\"left\" class=\"DifFlSb\">IBEX 35® Volatilidad Objetivo 12% Estándar</td><td>194,30</td><td>196,10</td><td class=\"DifClSb\">0,93</td><td>197,80</td><td>195,90</td><td align=\"center\">13/12/2019</td><td align=\"center\">17:38:00</td><td class=\"DifClSb Ult\">10,29</td>\n",
              "</tr><tr align=\"right\">\n",
              "<td align=\"left\" class=\"DifFlSb\">IBEX 35® Volatilidad Objetivo 15% Estándar</td><td>201,10</td><td>203,50</td><td class=\"DifClSb\">1,19</td><td>205,60</td><td>203,20</td><td align=\"center\">13/12/2019</td><td align=\"center\">17:38:00</td><td class=\"DifClSb Ult\">12,74</td>\n",
              "</tr><tr align=\"right\">\n",
              "<td align=\"left\" class=\"DifFlSb\">IBEX 35® Volatilidad Objetivo 18% Estándar</td><td>204,50</td><td>207,40</td><td class=\"DifClSb\">1,42</td><td>210,00</td><td>207,10</td><td align=\"center\">13/12/2019</td><td align=\"center\">17:38:00</td><td class=\"DifClSb Ult\">16,58</td>\n",
              "</tr><tr align=\"right\">\n",
              "<td align=\"left\" class=\"DifFlSb\">IBEX 35® Volatilidad Objetivo 10% Financiado</td><td>134,70</td><td>135,80</td><td class=\"DifClSb\">0,82</td><td>136,70</td><td>135,70</td><td align=\"center\">13/12/2019</td><td align=\"center\">17:38:00</td><td class=\"DifClSb Ult\">8,81</td>\n",
              "</tr><tr align=\"right\">\n",
              "<td align=\"left\" class=\"DifFlSb\">IBEX 35® Volatilidad Objetivo 12% Financiado</td><td>137,80</td><td>139,10</td><td class=\"DifClSb\">0,94</td><td>140,30</td><td>139,00</td><td align=\"center\">13/12/2019</td><td align=\"center\">17:38:00</td><td class=\"DifClSb Ult\">10,22</td>\n",
              "</tr><tr align=\"right\">\n",
              "<td align=\"left\" class=\"DifFlSb\">IBEX 35® Volatilidad Objetivo 15% Financiado</td><td>147,50</td><td>149,20</td><td class=\"DifClSb\">1,15</td><td>150,80</td><td>149,10</td><td align=\"center\">13/12/2019</td><td align=\"center\">17:38:00</td><td class=\"DifClSb Ult\">12,60</td>\n",
              "</tr><tr align=\"right\">\n",
              "<td align=\"left\" class=\"DifFlSb\">IBEX 35® Volatilidad Objetivo 18% Financiado</td><td>143,30</td><td>145,30</td><td class=\"DifClSb\">1,40</td><td>147,20</td><td>145,10</td><td align=\"center\">13/12/2019</td><td align=\"center\">17:38:00</td><td class=\"DifClSb Ult\">16,05</td>\n",
              "</tr><tr align=\"right\">\n",
              "<td align=\"left\" class=\"DifFlBj\">VIBEX®</td><td>11,94</td><td>10,85</td><td class=\"DifClBj\">-9,13</td><td>10,85</td><td>10,85</td><td align=\"center\">13/12/2019</td><td align=\"center\"> </td><td class=\"DifClBj Ult\">-48,65</td>\n",
              "</tr><tr align=\"right\">\n",
              "<td align=\"left\" class=\"DifFlBj\">IBEX 35® Skew</td><td>5,11</td><td>4,79</td><td class=\"DifClBj\">-6,26</td><td>4,79</td><td>4,79</td><td align=\"center\">13/12/2019</td><td align=\"center\"> </td><td class=\"DifClBj Ult\">-13,22</td>\n",
              "</tr><tr align=\"right\">\n",
              "<td align=\"left\" class=\"DifFlSb\">IBEX 35® BuyWrite</td><td>1.642,67</td><td>1.648,73</td><td class=\"DifClSb\">0,37</td><td>1.648,73</td><td>1.648,73</td><td align=\"center\">13/12/2019</td><td align=\"center\"> </td><td class=\"DifClSb Ult\">10,78</td>\n",
              "</tr><tr align=\"right\">\n",
              "<td align=\"left\" class=\"DifFlSb\">IBEX 35® PutWrite</td><td>1.642,16</td><td>1.642,52</td><td class=\"DifClSb\">0,02</td><td>1.642,52</td><td>1.642,52</td><td align=\"center\">13/12/2019</td><td align=\"center\"> </td><td class=\"DifClSb Ult\">3,04</td>\n",
              "</tr><tr align=\"right\">\n",
              "<td align=\"left\" class=\"DifFlSb\">IBEX 35® Protective Put</td><td>593,42</td><td>598,49</td><td class=\"DifClSb\">0,85</td><td>598,49</td><td>598,49</td><td align=\"center\">13/12/2019</td><td align=\"center\"> </td><td class=\"DifClSb Ult\">11,23</td>\n",
              "</tr><tr align=\"right\">\n",
              "<td align=\"left\" class=\"DifFlBj\">IBEX 35® Venta de Strangle</td><td>2.081,19</td><td>2.071,33</td><td class=\"DifClBj\">-0,47</td><td>2.071,33</td><td>2.071,33</td><td align=\"center\">13/12/2019</td><td align=\"center\"> </td><td class=\"DifClBj Ult\">-1,77</td>\n",
              "</tr><tr align=\"right\">\n",
              "<td align=\"left\" class=\"DifFlSb\">IBEX TOP Dividendo® Rentabilidad</td><td>7.159,80</td><td>7.184,90</td><td class=\"DifClSb\">0,35</td><td>7.264,20</td><td>7.181,60</td><td align=\"center\">13/12/2019</td><td align=\"center\">17:38:00</td><td class=\"DifClSb Ult\">11,13</td>\n",
              "</tr><tr align=\"right\">\n",
              "<td align=\"left\" class=\"DifFlSb\">IBEX TOP Dividendo® Rentabilidad Neta</td><td>6.030,10</td><td>6.051,20</td><td class=\"DifClSb\">0,35</td><td>6.118,00</td><td>6.048,40</td><td align=\"center\">13/12/2019</td><td align=\"center\">17:38:00</td><td class=\"DifClSb Ult\">10,31</td>\n",
              "</tr><tr align=\"right\">\n",
              "<td align=\"left\" class=\"DifFlSb\">IBEX MEDIUM CAP® con Dividendos</td><td>15.231,80</td><td>15.279,90</td><td class=\"DifClSb\">0,32</td><td>15.377,20</td><td>15.262,00</td><td align=\"center\">13/12/2019</td><td align=\"center\">17:38:00</td><td class=\"DifClSb Ult\">11,76</td>\n",
              "</tr><tr align=\"right\">\n",
              "<td align=\"left\" class=\"DifFlSb\">IBEX MEDIUM CAP® con Dividendos Netos</td><td>14.275,20</td><td>14.320,30</td><td class=\"DifClSb\">0,32</td><td>14.411,50</td><td>14.303,50</td><td align=\"center\">13/12/2019</td><td align=\"center\">17:38:00</td><td class=\"DifClSb Ult\">11,21</td>\n",
              "</tr><tr align=\"right\">\n",
              "<td align=\"left\" class=\"DifFlBj\">IBEX SMALL CAP® con Dividendos</td><td>9.607,90</td><td>9.588,30</td><td class=\"DifClBj\">-0,20</td><td>9.716,30</td><td>9.588,30</td><td align=\"center\">13/12/2019</td><td align=\"center\">17:38:01</td><td class=\"DifClSb Ult\">11,26</td>\n",
              "</tr><tr align=\"right\">\n",
              "<td align=\"left\" class=\"DifFlBj\">IBEX SMALL CAP® con Dividendos Netos</td><td>9.294,80</td><td>9.275,90</td><td class=\"DifClBj\">-0,20</td><td>9.399,70</td><td>9.275,90</td><td align=\"center\">13/12/2019</td><td align=\"center\">17:38:01</td><td class=\"DifClSb Ult\">10,93</td>\n",
              "</tr><tr align=\"right\">\n",
              "<td align=\"left\" class=\"DifFlBj\">IBEX MAB® 15</td><td>1.585,40</td><td>1.521,10</td><td class=\"DifClBj\">-4,06</td><td>1.536,60</td><td>1.448,90</td><td align=\"center\">13/12/2019</td><td align=\"center\">17:39:00</td><td class=\"DifClSb Ult\">67,60</td>\n",
              "</tr><tr align=\"right\">\n",
              "<td align=\"left\" class=\"DifFlBj\">IBEX MAB® All Share</td><td>1.309,90</td><td>1.274,10</td><td class=\"DifClBj\">-2,73</td><td>1.282,60</td><td>1.237,80</td><td align=\"center\">13/12/2019</td><td align=\"center\">17:39:00</td><td class=\"DifClSb Ult\">36,46</td>\n",
              "</tr><tr align=\"right\">\n",
              "<td align=\"left\" class=\"DifFlSb\">FTSE4Good IBEX</td><td>9.771,10</td><td>9.851,50</td><td class=\"DifClSb\">0,82</td><td>9.941,40</td><td>9.839,10</td><td align=\"center\">13/12/2019</td><td align=\"center\">17:38:01</td><td class=\"DifClSb Ult\">11,27</td>\n",
              "</tr><tr align=\"right\">\n",
              "<td align=\"left\" class=\"DifFlSb\">FTSE4Good IBEX Total Return</td><td>20.686,80</td><td>20.857,00</td><td class=\"DifClSb\">0,82</td><td>21.047,30</td><td>20.830,70</td><td align=\"center\">13/12/2019</td><td align=\"center\">17:38:01</td><td class=\"DifClSb Ult\">15,27</td>\n",
              "</tr><tr align=\"right\">\n",
              "<td align=\"left\" class=\"DifFlSb\">FTSE4Good IBEX Net Return</td><td>18.486,90</td><td>18.639,00</td><td class=\"DifClSb\">0,82</td><td>18.809,10</td><td>18.615,50</td><td align=\"center\">13/12/2019</td><td align=\"center\">17:38:01</td><td class=\"DifClSb Ult\">14,51</td>\n",
              "</tr><tr align=\"right\">\n",
              "<td align=\"left\" class=\"DifFlBj\">FTSE Latibex All Share</td><td>2.478,80</td><td>2.465,50</td><td class=\"DifClBj\">-0,54</td><td>2.476,30</td><td>2.465,50</td><td align=\"center\">13/12/2019</td><td align=\"center\">17:38:00</td><td class=\"DifClSb Ult\">13,18</td>\n",
              "</tr><tr align=\"right\">\n",
              "<td align=\"left\" class=\"DifFlIg\">FTSE Latibex TOP</td><td>5.209,50</td><td>5.209,50</td><td class=\"DifClIg\">0,00</td><td>5.211,50</td><td>5.197,70</td><td align=\"center\">13/12/2019</td><td align=\"center\">17:38:00</td><td class=\"DifClSb Ult\">11,39</td>\n",
              "</tr><tr align=\"right\">\n",
              "<td align=\"left\" class=\"DifFlBj\">FTSE Latibex BRASIL</td><td>11.822,60</td><td>11.804,50</td><td class=\"DifClBj\">-0,15</td><td>11.833,80</td><td>11.786,70</td><td align=\"center\">13/12/2019</td><td align=\"center\">17:38:00</td><td class=\"DifClSb Ult\">14,70</td>\n",
              "</tr><tr align=\"right\">\n",
              "<td align=\"left\" class=\"DifFlSb\">I.G.B.M.</td><td>943,96</td><td>952,54</td><td class=\"DifClSb\">0,91</td><td>961,07</td><td>952,19</td><td align=\"center\">13/12/2019</td><td align=\"center\">17:38:01</td><td class=\"DifClSb Ult\">10,43</td>\n",
              "</tr><tr align=\"right\">\n",
              "<td align=\"left\" class=\"DifFlSb\">I.G.B.M. Total</td><td>3.813,45</td><td>3.849,33</td><td class=\"DifClSb\">0,94</td><td>3.849,33</td><td>3.849,33</td><td align=\"center\">13/12/2019</td><td align=\"center\">17:38:01</td><td class=\"DifClSb Ult\">15,17</td>\n",
              "</tr><tr align=\"right\">\n",
              "<td align=\"left\" class=\"DifFlSb\">BCN GLOBAL 100 (Base 1986)</td><td>722,23</td><td>727,05</td><td class=\"DifClSb\">0,67</td><td>735,71</td><td>726,69</td><td align=\"center\">13/12/2019</td><td align=\"center\">17:38:00</td><td class=\"DifClSb Ult\">8,47</td>\n",
              "</tr><tr align=\"right\">\n",
              "<td align=\"left\" class=\"DifFlSb\">BCN GLOBAL 100 (Base 1963)</td><td>1.856,26</td><td>1.868,64</td><td class=\"DifClSb\">0,67</td><td>1.890,89</td><td>1.867,72</td><td align=\"center\">13/12/2019</td><td align=\"center\">17:38:00</td><td class=\"DifClSb Ult\">8,47</td>\n",
              "</tr><tr align=\"right\">\n",
              "<td align=\"left\" class=\"DifFlBj\">BCN MID 50</td><td>22.985,79</td><td>22.964,15</td><td class=\"DifClBj\">-0,09</td><td>23.206,67</td><td>22.964,15</td><td align=\"center\">13/12/2019</td><td align=\"center\">17:38:01</td><td class=\"DifClSb Ult\">13,59</td>\n",
              "</tr><tr align=\"right\">\n",
              "<td align=\"left\" class=\"DifFlSb\">BCN PROFIT-30</td><td>13.181,14</td><td>13.396,80</td><td class=\"DifClSb\">1,64</td><td>13.533,28</td><td>13.365,57</td><td align=\"center\">13/12/2019</td><td align=\"center\">17:38:01</td><td class=\"DifClSb Ult\">4,94</td>\n",
              "</tr><tr align=\"right\">\n",
              "<td align=\"left\" class=\"DifFlSb\">BCN ROE-30</td><td>20.746,78</td><td>21.073,30</td><td class=\"DifClSb\">1,57</td><td>21.210,01</td><td>20.995,27</td><td align=\"center\">13/12/2019</td><td align=\"center\">17:38:01</td><td class=\"DifClSb Ult\">7,26</td>\n",
              "</tr><tr align=\"right\">\n",
              "<td align=\"left\" class=\"DifFlSb\">BCN PER-30</td><td>21.513,30</td><td>21.832,79</td><td class=\"DifClSb\">1,49</td><td>22.069,18</td><td>21.816,24</td><td align=\"center\">13/12/2019</td><td align=\"center\">17:38:01</td><td class=\"DifClSb Ult\">3,59</td>\n",
              "</tr><tr align=\"right\">\n",
              "<td align=\"left\" class=\"DifFlBj\">BCN INDEXCAT</td><td>22.382,55</td><td>22.348,63</td><td class=\"DifClBj\">-0,15</td><td>22.682,90</td><td>22.348,63</td><td align=\"center\">13/12/2019</td><td align=\"center\">17:38:01</td><td class=\"DifClSb Ult\">21,09</td>\n",
              "</tr><tr align=\"right\">\n",
              "<td align=\"left\" class=\"DifFlSb\">BCN TOP EURO</td><td>1.101,46</td><td>1.112,78</td><td class=\"DifClSb\">1,03</td><td>1.123,07</td><td>1.112,31</td><td align=\"center\">13/12/2019</td><td align=\"center\">17:38:01</td><td class=\"DifClSb Ult\">11,28</td>\n",
              "</tr><tr align=\"right\">\n",
              "<td align=\"left\" class=\"DifFlSb\">BCN TOP 5</td><td>1.093,78</td><td>1.103,01</td><td class=\"DifClSb\">0,84</td><td>1.115,90</td><td>1.102,21</td><td align=\"center\">13/12/2019</td><td align=\"center\">17:38:01</td><td class=\"DifClSb Ult\">10,30</td>\n",
              "</tr><tr align=\"right\">\n",
              "<td align=\"left\" class=\"DifFlSb\">BILBAO</td><td>1.474,76</td><td>1.488,93</td><td class=\"DifClSb\">0,96</td><td>1.502,13</td><td>1.488,03</td><td align=\"center\">13/12/2019</td><td align=\"center\">17:38:00</td><td class=\"DifClSb Ult\">11,94</td>\n",
              "</tr><tr align=\"right\">\n",
              "<td align=\"left\" class=\"DifFlSb\">VALENCIA</td><td>1.251,04</td><td>1.259,55</td><td class=\"DifClSb\">0,68</td><td>1.272,41</td><td>1.258,96</td><td align=\"center\">13/12/2019</td><td align=\"center\">17:38:00</td><td class=\"DifClSb Ult\">12,60</td>\n",
              "</tr><tr align=\"right\">\n",
              "<td align=\"left\" class=\"DifFlSb\">Índice TEF Apalancado X3</td><td>2.033,20</td><td>2.063,30</td><td class=\"DifClSb\">1,48</td><td>2.148,00</td><td>2.056,00</td><td align=\"center\">13/12/2019</td><td align=\"center\">17:38:01</td><td class=\"DifClBj Ult\">-24,89</td>\n",
              "</tr><tr align=\"right\">\n",
              "<td align=\"left\" class=\"DifFlSb\">Índice SAN Apalancado X3</td><td>1.885,00</td><td>1.920,20</td><td class=\"DifClSb\">1,87</td><td>2.133,40</td><td>1.920,20</td><td align=\"center\">13/12/2019</td><td align=\"center\">17:38:01</td><td class=\"DifClBj Ult\">-22,56</td>\n",
              "</tr><tr align=\"right\">\n",
              "<td align=\"left\" class=\"DifFlSb\">Índice BBVA Apalancado X3</td><td>1.382,70</td><td>1.406,70</td><td class=\"DifClSb\">1,74</td><td>1.507,40</td><td>1.402,90</td><td align=\"center\">13/12/2019</td><td align=\"center\">17:38:00</td><td class=\"DifClSb Ult\">15,60</td>\n",
              "</tr><tr align=\"right\">\n",
              "<td align=\"left\" class=\"DifFlSb\">Índice ITX Apalancado X3</td><td>7.157,40</td><td>7.435,00</td><td class=\"DifClSb\">3,88</td><td>7.684,20</td><td>7.299,70</td><td align=\"center\">13/12/2019</td><td align=\"center\">17:38:01</td><td class=\"DifClSb Ult\">141,55</td>\n",
              "</tr><tr align=\"right\">\n",
              "<td align=\"left\" class=\"DifFlSb\">Índice TEF Apalancado X5</td><td>43,20</td><td>44,30</td><td class=\"DifClSb\">2,55</td><td>47,30</td><td>44,00</td><td align=\"center\">13/12/2019</td><td align=\"center\">17:38:01</td><td class=\"DifClBj Ult\">-46,69</td>\n",
              "</tr><tr align=\"right\">\n",
              "<td align=\"left\" class=\"DifFlSb\">Índice SAN Apalancado X5</td><td>269,10</td><td>277,50</td><td class=\"DifClSb\">3,12</td><td>328,20</td><td>277,50</td><td align=\"center\">13/12/2019</td><td align=\"center\">17:38:01</td><td class=\"DifClBj Ult\">-51,88</td>\n",
              "</tr><tr align=\"right\">\n",
              "<td align=\"left\" class=\"DifFlSb\">Índice BBVA Apalancado X5</td><td>46,80</td><td>48,20</td><td class=\"DifClSb\">2,99</td><td>53,80</td><td>47,90</td><td align=\"center\">13/12/2019</td><td align=\"center\">17:38:00</td><td class=\"DifClBj Ult\">-5,30</td>\n",
              "</tr><tr align=\"right\">\n",
              "<td align=\"left\" class=\"DifFlSb\">Índice ITX Apalancado X5</td><td>2.020,30</td><td>2.150,90</td><td class=\"DifClSb\">6,46</td><td>2.268,10</td><td>2.087,20</td><td align=\"center\">13/12/2019</td><td align=\"center\">17:38:01</td><td class=\"DifClSb Ult\">247,37</td>\n",
              "</tr><tr align=\"right\">\n",
              "<td align=\"left\" class=\"DifFlBj\">Índice TEF Inverso X3</td><td>3.186,10</td><td>3.137,40</td><td class=\"DifClBj\">-1,53</td><td>3.148,80</td><td>3.004,60</td><td align=\"center\">13/12/2019</td><td align=\"center\">17:38:01</td><td class=\"DifClBj Ult\">-15,15</td>\n",
              "</tr><tr align=\"right\">\n",
              "<td align=\"left\" class=\"DifFlBj\">Índice SAN Inverso X3</td><td>600,10</td><td>588,60</td><td class=\"DifClBj\">-1,92</td><td>588,60</td><td>520,70</td><td align=\"center\">13/12/2019</td><td align=\"center\">17:38:01</td><td class=\"DifClBj Ult\">-39,01</td>\n",
              "</tr><tr align=\"right\">\n",
              "<td align=\"left\" class=\"DifFlBj\">Índice BBVA Inverso X3</td><td>1.335,50</td><td>1.311,60</td><td class=\"DifClBj\">-1,79</td><td>1.315,30</td><td>1.214,30</td><td align=\"center\">13/12/2019</td><td align=\"center\">17:38:00</td><td class=\"DifClBj Ult\">-58,24</td>\n",
              "</tr><tr align=\"right\">\n",
              "<td align=\"left\" class=\"DifFlBj\">Índice ITX Inverso X3</td><td>1.243,00</td><td>1.194,20</td><td class=\"DifClBj\">-3,93</td><td>1.217,70</td><td>1.150,90</td><td align=\"center\">13/12/2019</td><td align=\"center\">17:38:01</td><td class=\"DifClBj Ult\">-77,20</td>\n",
              "</tr><tr align=\"right\">\n",
              "<td align=\"left\" class=\"DifFlBj\">Índice TEF Inverso X5</td><td>486,60</td><td>474,20</td><td class=\"DifClBj\">-2,55</td><td>477,10</td><td>440,40</td><td align=\"center\">13/12/2019</td><td align=\"center\">17:38:01</td><td class=\"DifClBj Ult\">-33,99</td>\n",
              "</tr><tr align=\"right\">\n",
              "<td align=\"left\" class=\"DifFlBj\">Índice SAN Inverso X5</td><td>13,60</td><td>13,20</td><td class=\"DifClBj\">-2,94</td><td>13,20</td><td>10,60</td><td align=\"center\">13/12/2019</td><td align=\"center\">17:38:01</td><td class=\"DifClBj Ult\">-67,65</td>\n",
              "</tr><tr align=\"right\">\n",
              "<td align=\"left\" class=\"DifFlBj\">Índice BBVA Inverso X5</td><td>62,50</td><td>60,60</td><td class=\"DifClBj\">-3,04</td><td>60,90</td><td>53,00</td><td align=\"center\">13/12/2019</td><td align=\"center\">17:38:00</td><td class=\"DifClBj Ult\">-82,83</td>\n",
              "</tr><tr align=\"right\">\n",
              "<td align=\"left\" class=\"DifFlBj\">Índice ITX Inverso X5</td><td>111,70</td><td>104,40</td><td class=\"DifClBj\">-6,54</td><td>107,90</td><td>97,90</td><td align=\"center\">13/12/2019</td><td align=\"center\">17:38:01</td><td class=\"DifClBj Ult\">-93,28</td>\n",
              "</tr>\n",
              "</table>"
            ]
          },
          "metadata": {
            "tags": []
          },
          "execution_count": 3
        }
      ]
    },
    {
      "cell_type": "code",
      "metadata": {
        "id": "VL_nMzwDK8U2",
        "colab_type": "code",
        "colab": {
          "base_uri": "https://localhost:8080/",
          "height": 51
        },
        "outputId": "6b776749-8ef2-4193-c2a5-d487f8502302"
      },
      "source": [
        "name = \"\"\n",
        "price = \"\"\n",
        "nroFila = 0\n",
        "for fila in tabla.find_all(\"tr\"):\n",
        "  if nroFila == 1:\n",
        "    nroCelda = 0\n",
        "    for celda in fila.find_all(\"td\"):\n",
        "      if nroCelda == 0:\n",
        "        name = celda.text\n",
        "        print(\"Indice: \", name)\n",
        "      if nroCelda == 2:\n",
        "        price = celda.text \n",
        "        print(\"Valor: \", price)\n",
        "      nroCelda = nroCelda + 1\n",
        "  nroFila = nroFila + 1"
      ],
      "execution_count": 7,
      "outputs": [
        {
          "output_type": "stream",
          "text": [
            "Indice:  IBEX 35®\n",
            "Valor:  9.563,70\n"
          ],
          "name": "stdout"
        }
      ]
    },
    {
      "cell_type": "code",
      "metadata": {
        "id": "NixlanUKL8pu",
        "colab_type": "code",
        "colab": {}
      },
      "source": [
        "# Abrimos el csv con append para que pueda agregar contenidos al final del archivo\n",
        "with open(\"bolsa_ibex35.csv\", \"a\") as csv_file:\n",
        "  writer = csv.writer(csv_file)\n",
        "  writer.writerow([name, price, datetime.now()])"
      ],
      "execution_count": 0,
      "outputs": []
    }
  ]
}